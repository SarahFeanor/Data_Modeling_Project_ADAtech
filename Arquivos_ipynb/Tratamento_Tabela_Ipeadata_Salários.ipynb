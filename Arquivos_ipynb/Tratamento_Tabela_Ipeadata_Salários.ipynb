{
  "nbformat": 4,
  "nbformat_minor": 0,
  "metadata": {
    "colab": {
      "provenance": [],
      "authorship_tag": "ABX9TyNwZzqBZsgocFBf2I7RQScZ",
      "include_colab_link": true
    },
    "kernelspec": {
      "name": "python3",
      "display_name": "Python 3"
    },
    "language_info": {
      "name": "python"
    }
  },
  "cells": [
    {
      "cell_type": "markdown",
      "metadata": {
        "id": "view-in-github",
        "colab_type": "text"
      },
      "source": [
        "<a href=\"https://colab.research.google.com/github/SarahFeanor/data_modeling_project_ADAtech/blob/main/Tratamento_Tabela_Ipeadata_Sal%C3%A1rios.ipynb\" target=\"_parent\"><img src=\"https://colab.research.google.com/assets/colab-badge.svg\" alt=\"Open In Colab\"/></a>"
      ]
    },
    {
      "cell_type": "markdown",
      "source": [
        "<sub> 📁 **Projeto Grupo 1** : Módulo III - Banco de Dados | Turma: 1102 | **Integrantes**: Caio Vieira, Igor Cruz, Jared Leite, Leticia Carneiro, Sarah Rezende </sub>\n",
        "\n",
        "<sub> **Repositório do Projeto** - [GitHub](https://github.com/SarahFeanor/data_modeling_project_ADAtech/tree/main) </sub>\n"
      ],
      "metadata": {
        "id": "fhotE-IxPEZm"
      }
    },
    {
      "cell_type": "markdown",
      "source": [
        "## 📊 **Tratamento da Tabela Ipeadata - Salários Mínimos Vigentes de 2000 a 2023.**\n",
        "\n",
        "- Vamos começar visualizando a estrutura atual da tabela.\n",
        "\n",
        "- O **objetivo principal** é efetuar a transformação dos dados na coluna `Data` para o formato `DATE`, enquanto na coluna `Salários` buscamos o tipo '`int`.\""
      ],
      "metadata": {
        "id": "PztuK5GJLKS6"
      }
    },
    {
      "cell_type": "code",
      "source": [
        "# Exibindo a Tabela\n",
        "arquivo_csv = 'Pasta1.CSV'\n",
        "df = pd.read_csv(arquivo_csv, sep=';')\n",
        "print(\"DataFrame Original:\")\n",
        "print(df)"
      ],
      "metadata": {
        "colab": {
          "base_uri": "https://localhost:8080/"
        },
        "id": "WgkoBJonGebx",
        "outputId": "044bb61f-46f3-4aeb-b245-cd9569b90342"
      },
      "execution_count": 137,
      "outputs": [
        {
          "output_type": "stream",
          "name": "stdout",
          "text": [
            "DataFrame Original:\n",
            "       Data   SMV\n",
            "0    200001   136\n",
            "1    200002   136\n",
            "2    200003   136\n",
            "3    200004   151\n",
            "4    200005   151\n",
            "..      ...   ...\n",
            "283  202308  1320\n",
            "284  202309  1320\n",
            "285  202310  1320\n",
            "286  202311  1320\n",
            "287  202312  1320\n",
            "\n",
            "[288 rows x 2 columns]\n"
          ]
        }
      ]
    },
    {
      "cell_type": "markdown",
      "source": [
        "---\n",
        "\n",
        "- Incluímos **'01'** ao final dos valores na coluna `Data` para permitir a conversão eficiente dos dados para o formato '`DATE`'. Após a conclusão da transformação, renomeamos a coluna 'SMV' para 'Salário Mínimo Vigente'.\n"
      ],
      "metadata": {
        "id": "9soGP-PrMO9a"
      }
    },
    {
      "cell_type": "code",
      "source": [
        "import pandas as pd\n",
        "\n",
        "# Arquivo CSV\n",
        "arquivo_csv = 'Pasta1.CSV'\n",
        "df = pd.read_csv(arquivo_csv, sep=';')\n",
        "\n",
        "# Adiciona \"01\" ao final de cada valor na coluna 'Data'\n",
        "df['Data'] = df['Data'].apply(lambda x: str(x) + '01')\n",
        "\n",
        "# Converte a coluna 'Data' para o tipo de dados datetime\n",
        "df['Data'] = pd.to_datetime(df['Data'], format='%Y-%m-%d')\n",
        "\n",
        "# Converte a coluna 'SMV' para o tipo de dados integer\n",
        "df['Salario_Minimo_Vigente'] = pd.to_numeric(df['SMV'], errors='coerce', downcast='integer')\n",
        "\n",
        "# Remove a coluna antiga 'SMV'\n",
        "df.drop(columns=['SMV'], inplace=True)\n",
        "\n",
        "# Exibe o DataFrame com as colunas 'Data' e 'Salario_Minimo_Vigente' modificadas\n",
        "print(df)"
      ],
      "metadata": {
        "colab": {
          "base_uri": "https://localhost:8080/"
        },
        "id": "zjE6tXJKHkjY",
        "outputId": "7a8c58ad-009e-4e9e-ed40-e126e5177714"
      },
      "execution_count": 141,
      "outputs": [
        {
          "output_type": "stream",
          "name": "stdout",
          "text": [
            "          Data  Salario_Minimo_Vigente\n",
            "0   2000-01-01                     136\n",
            "1   2000-02-01                     136\n",
            "2   2000-03-01                     136\n",
            "3   2000-04-01                     151\n",
            "4   2000-05-01                     151\n",
            "..         ...                     ...\n",
            "283 2023-08-01                    1320\n",
            "284 2023-09-01                    1320\n",
            "285 2023-10-01                    1320\n",
            "286 2023-11-01                    1320\n",
            "287 2023-12-01                    1320\n",
            "\n",
            "[288 rows x 2 columns]\n"
          ]
        }
      ]
    },
    {
      "cell_type": "code",
      "source": [
        "# Salva o DataFrame modificado em um novo arquivo CSV\n",
        "novo_arquivo_csv = 'ipeadata_Tratado'\n",
        "df.to_csv(novo_arquivo_csv, index=False)\n",
        "\n",
        "print(f\"DataFrame modificado salvo em '{novo_arquivo_csv}'.\")"
      ],
      "metadata": {
        "colab": {
          "base_uri": "https://localhost:8080/"
        },
        "id": "3pmkNiI7H12K",
        "outputId": "4b2eb935-3a01-4189-e22b-c75e7d190e95"
      },
      "execution_count": 143,
      "outputs": [
        {
          "output_type": "stream",
          "name": "stdout",
          "text": [
            "DataFrame modificado salvo em 'ipeadata_Tratado'.\n"
          ]
        }
      ]
    }
  ]
}
